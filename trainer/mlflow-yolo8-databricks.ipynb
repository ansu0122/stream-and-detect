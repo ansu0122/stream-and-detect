{
 "cells": [
  {
   "cell_type": "code",
   "execution_count": 20,
   "metadata": {},
   "outputs": [],
   "source": [
    "import os\n",
    "import logging\n",
    "import yaml\n",
    "import s3fs\n",
    "import boto3\n",
    "import numpy as np\n",
    "import torch\n",
    "import mlflow\n",
    "from mlflow.exceptions import MlflowException\n",
    "from mlflow.models import infer_signature\n",
    "from ultralytics import settings\n",
    "from ultralytics import YOLO"
   ]
  },
  {
   "cell_type": "code",
   "execution_count": null,
   "metadata": {},
   "outputs": [],
   "source": [
    "# os.environ['AWS_REGION'] = 'eu-central-1'\n",
    "# os.environ['AWS_ACCESS_KEY_ID'] = ''\n",
    "# os.environ['AWS_SECRET_ACCESS_KEY'] = ''"
   ]
  },
  {
   "cell_type": "code",
   "execution_count": null,
   "metadata": {},
   "outputs": [],
   "source": [
    "# !pip install databricks-cli\n",
    "# os.environ['DATABRICKS_HOST'] = 'https://community.cloud.databricks.com/'\n",
    "# os.environ['DATABRICKS_USERNAME'] = ''\n",
    "# os.environ['DATABRICKS_PASSWORD'] = ''"
   ]
  },
  {
   "cell_type": "code",
   "execution_count": 4,
   "metadata": {},
   "outputs": [],
   "source": [
    "logging.getLogger(\"mlflow\").setLevel(logging.DEBUG)"
   ]
  },
  {
   "cell_type": "code",
   "execution_count": 5,
   "metadata": {},
   "outputs": [
    {
     "name": "stdout",
     "output_type": "stream",
     "text": [
      "{'settings_version': '0.0.4', 'datasets_dir': '/Users/asukh/Work/VSCode/Python/stream-and-detect/trainer', 'weights_dir': 'weights', 'runs_dir': 'runs', 'uuid': '8c0982ee71335cf4485524a18ce8e44caf5e59c587e48ff1e991579ce82db241', 'sync': True, 'api_key': '', 'openai_api_key': '', 'clearml': True, 'comet': True, 'dvc': False, 'hub': True, 'mlflow': False, 'neptune': True, 'raytune': True, 'tensorboard': True, 'wandb': True}\n"
     ]
    }
   ],
   "source": [
    "artifact_uri = f\"s3://stream-n-detect/models\"\n",
    "DATA_YAML_PATH = 'data/data.yaml'\n",
    "fs = s3fs.S3FileSystem()\n",
    "settings.update({\"dvc\": False, \"mlflow\": False})\n",
    "print(settings)"
   ]
  },
  {
   "cell_type": "code",
   "execution_count": 6,
   "metadata": {},
   "outputs": [
    {
     "data": {
      "text/plain": [
       "<Experiment: artifact_location='s3://stream-n-detect/models', creation_time=1718367076967, experiment_id='541998404243590', last_update_time=1718367076967, lifecycle_stage='active', name='/Users/andriysukh0912@gmail.com/yolov8n-detect', tags={'mlflow.experiment.sourceName': '/Users/andriysukh0912@gmail.com/yolov8n-detect',\n",
       " 'mlflow.experimentType': 'MLFLOW_EXPERIMENT',\n",
       " 'mlflow.ownerEmail': 'andriysukh0912@gmail.com',\n",
       " 'mlflow.ownerId': '3490293259147743'}>"
      ]
     },
     "execution_count": 6,
     "metadata": {},
     "output_type": "execute_result"
    }
   ],
   "source": [
    "mlflow.set_tracking_uri(uri=\"databricks\")\n",
    "experiment_name = \"/Users/andriysukh0912@gmail.com/yolov8n-detect\"\n",
    "try:\n",
    "    experiment_id = mlflow.create_experiment(experiment_name, artifact_location=artifact_uri)\n",
    "except MlflowException:\n",
    "    experiment = mlflow.get_experiment_by_name(experiment_name)\n",
    "    experiment_id = experiment.experiment_id\n",
    "\n",
    "mlflow.set_experiment(experiment_name)"
   ]
  },
  {
   "cell_type": "code",
   "execution_count": 11,
   "metadata": {},
   "outputs": [],
   "source": [
    "# load params\n",
    "with open(r\"params.yaml\") as f:\n",
    "    params = yaml.safe_load(f)\n",
    "\n",
    "# load a pre-trained model \n",
    "model = YOLO(params['model_type'])"
   ]
  },
  {
   "cell_type": "code",
   "execution_count": null,
   "metadata": {},
   "outputs": [],
   "source": [
    "# train\n",
    "device = torch.device(\"cuda\" if torch.cuda.is_available() else \"cpu\")\n",
    "results = model.train(\n",
    "    data=DATA_YAML_PATH,\n",
    "    imgsz=params['imgsz'],\n",
    "    batch=params['batch'],\n",
    "    epochs=params['epochs'],\n",
    "    optimizer=params['optimizer'],\n",
    "    lr0=params['lr0'],\n",
    "    seed=params['seed'],\n",
    "    pretrained=params['pretrained'],\n",
    "    # name=params['name'],\n",
    "    device = device,\n",
    "    project = params['project_dir']\n",
    ")"
   ]
  },
  {
   "cell_type": "code",
   "execution_count": 12,
   "metadata": {},
   "outputs": [
    {
     "name": "stdout",
     "output_type": "stream",
     "text": [
      "YOLOv8n summary (fused): 168 layers, 3151904 parameters, 0 gradients, 8.7 GFLOPs\n"
     ]
    },
    {
     "name": "stderr",
     "output_type": "stream",
     "text": [
      "\u001b[34m\u001b[1mval: \u001b[0mScanning /Users/asukh/Work/VSCode/Python/stream-and-detect/trainer/data/valid/labels.cache... 549 images, 8 backgrounds, 0 corrupt: 100%|██████████| 549/549 [00:00<?, ?it/s]\n",
      "                 Class     Images  Instances      Box(P          R      mAP50  mAP50-95): 100%|██████████| 35/35 [02:44<00:00,  4.71s/it]\n"
     ]
    },
    {
     "name": "stdout",
     "output_type": "stream",
     "text": [
      "                   all        549       6270      0.191      0.125       0.11     0.0678\n",
      "                person        189        250      0.014        0.1    0.00631    0.00212\n",
      "               bicycle         81        108          0          0          0          0\n",
      "                   car        520       3842      0.538      0.504      0.504      0.317\n",
      "            motorcycle        331       1238      0.402     0.0186     0.0418       0.02\n",
      "              airplane        196        832          0          0   0.000563   0.000169\n",
      "Speed: 1.4ms preprocess, 293.2ms inference, 0.0ms loss, 2.3ms postprocess per image\n",
      "Results saved to \u001b[1mmodels/val/val4\u001b[0m\n"
     ]
    }
   ],
   "source": [
    "device = torch.device(\"cuda\" if torch.cuda.is_available() else \"cpu\")\n",
    "project_dir = params['project_dir']\n",
    "results = model.val(data=DATA_YAML_PATH, device=device, project = f'{project_dir}/val/')"
   ]
  },
  {
   "cell_type": "code",
   "execution_count": null,
   "metadata": {},
   "outputs": [],
   "source": [
    "requirements_path = \"requirements.txt\"\n",
    "with open(requirements_path, \"w\") as f:\n",
    "    f.write(\"torch==2.3.1\\n\")\n",
    "    f.write(\"cloudpickle==3.0.0\\n\")\n",
    "    # Add other dependencies if needed\n",
    "\n",
    "with mlflow.start_run(experiment_id=experiment_id):\n",
    "    print(mlflow.get_artifact_uri())\n",
    "    mlflow.log_params(params)\n",
    "    mlflow.log_metric(\"precision\", results.results_dict['metrics/precision(B)'])\n",
    "    mlflow.log_metric(\"recall\", results.results_dict['metrics/recall(B)'])\n",
    "    mlflow.log_metric(\"fitness\", results.fitness)\n",
    "    mlflow.log_metric(\"inference\", results.speed['inference'])\n",
    "    mlflow.log_metric(\"loss\", results.speed['loss'])\n",
    "    mlflow.set_tag(\"training info\", \"yolo8n traffic data\")\n",
    "    signature = infer_signature(params=params)\n",
    "\n",
    "    model_info = mlflow.pytorch.log_model(pytorch_model = model.model, artifact_path=\"models\", signature=signature, pip_requirements=requirements_path)\n",
    "    # mlflow.log_artifact('models')\n",
    "    "
   ]
  },
  {
   "cell_type": "code",
   "execution_count": 26,
   "metadata": {},
   "outputs": [
    {
     "name": "stderr",
     "output_type": "stream",
     "text": [
      "Downloading artifacts: 100%|██████████| 10/10 [00:00<00:00, 16.97it/s]  \n"
     ]
    }
   ],
   "source": [
    "loaded_model = mlflow.pyfunc.load_model(model_uri=model_info.model_uri)"
   ]
  }
 ],
 "metadata": {
  "kernelspec": {
   "display_name": "mlops-kafka-yolo",
   "language": "python",
   "name": "python3"
  },
  "language_info": {
   "codemirror_mode": {
    "name": "ipython",
    "version": 3
   },
   "file_extension": ".py",
   "mimetype": "text/x-python",
   "name": "python",
   "nbconvert_exporter": "python",
   "pygments_lexer": "ipython3",
   "version": "3.10.14"
  }
 },
 "nbformat": 4,
 "nbformat_minor": 2
}
