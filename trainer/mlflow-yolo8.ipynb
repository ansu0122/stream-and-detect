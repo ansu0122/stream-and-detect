{
 "cells": [
  {
   "cell_type": "code",
   "execution_count": 20,
   "metadata": {},
   "outputs": [],
   "source": [
    "import os\n",
    "import logging\n",
    "import yaml\n",
    "import s3fs\n",
    "import boto3\n",
    "import torch\n",
    "import torch.nn as nn\n",
    "from ultralytics import YOLO\n",
    "import mlflow\n",
    "from mlflow.exceptions import MlflowException\n",
    "from mlflow.models import infer_signature\n",
    "from ultralytics import settings"
   ]
  },
  {
   "cell_type": "code",
   "execution_count": 21,
   "metadata": {},
   "outputs": [],
   "source": [
    "logging.getLogger(\"mlflow\").setLevel(logging.DEBUG)"
   ]
  },
  {
   "cell_type": "code",
   "execution_count": 2,
   "metadata": {},
   "outputs": [
    {
     "name": "stdout",
     "output_type": "stream",
     "text": [
      "{'settings_version': '0.0.4', 'datasets_dir': '/Users/asukh/Work/VSCode/Python/stream-and-detect/trainer', 'weights_dir': 'weights', 'runs_dir': 'runs', 'uuid': '8c0982ee71335cf4485524a18ce8e44caf5e59c587e48ff1e991579ce82db241', 'sync': True, 'api_key': '', 'openai_api_key': '', 'clearml': True, 'comet': True, 'dvc': False, 'hub': True, 'mlflow': False, 'neptune': True, 'raytune': True, 'tensorboard': True, 'wandb': True}\n"
     ]
    }
   ],
   "source": [
    "mlflow.set_tracking_uri(uri=\"http://localhost:8080\")\n",
    "fs = s3fs.S3FileSystem()\n",
    "# os.environ['MLFLOW_S3_ENDPOINT_URL'] = 'http://localhost:9090'\n",
    "# os.environ['AWS_ACCESS_KEY_ID'] = ''\n",
    "# os.environ['AWS_SECRET_ACCESS_KEY'] = ''\n",
    "artifact_uri = f\"s3://stream-n-detect/models\"\n",
    "DATA_YAML_PATH = 'data/data.yaml'\n",
    "\n",
    "settings.update({\"dvc\": False, \"mlflow\": False})\n",
    "print(settings)"
   ]
  },
  {
   "cell_type": "code",
   "execution_count": 3,
   "metadata": {},
   "outputs": [
    {
     "name": "stdout",
     "output_type": "stream",
     "text": [
      "Downloading https://github.com/ultralytics/assets/releases/download/v8.1.0/yolov8n.pt to 'yolov8n.pt'...\n"
     ]
    },
    {
     "name": "stderr",
     "output_type": "stream",
     "text": [
      "100%|██████████| 6.23M/6.23M [00:00<00:00, 22.6MB/s]\n"
     ]
    }
   ],
   "source": [
    "# load\n",
    "with open(r\"params.yaml\") as f:\n",
    "    params = yaml.safe_load(f)\n",
    "\n",
    "# load a pre-trained model \n",
    "model = YOLO(params['model_type'])"
   ]
  },
  {
   "cell_type": "code",
   "execution_count": 5,
   "metadata": {},
   "outputs": [
    {
     "name": "stdout",
     "output_type": "stream",
     "text": [
      "New https://pypi.org/project/ultralytics/8.2.31 available 😃 Update with 'pip install -U ultralytics'\n",
      "\u001b[34m\u001b[1mengine/trainer: \u001b[0mtask=detect, mode=train, model=yolov8n.pt, data=data/data.yaml, epochs=1, time=None, patience=100, batch=8, imgsz=640, save=True, save_period=-1, cache=False, device=cpu, workers=0, project=models, name=train5, exist_ok=False, pretrained=True, optimizer=SGD, verbose=True, seed=0, deterministic=True, single_cls=False, rect=False, cos_lr=False, close_mosaic=10, resume=False, amp=True, fraction=1.0, profile=False, freeze=None, multi_scale=False, overlap_mask=True, mask_ratio=4, dropout=0.0, val=True, split=val, save_json=False, save_hybrid=False, conf=None, iou=0.7, max_det=300, half=False, dnn=False, plots=True, source=None, vid_stride=1, stream_buffer=False, visualize=False, augment=False, agnostic_nms=False, classes=None, retina_masks=False, embed=None, show=False, save_frames=False, save_txt=False, save_conf=False, save_crop=False, show_labels=True, show_conf=True, show_boxes=True, line_width=None, format=torchscript, keras=False, optimize=False, int8=False, dynamic=False, simplify=False, opset=None, workspace=4, nms=False, lr0=0.01, lrf=0.01, momentum=0.937, weight_decay=0.0005, warmup_epochs=3.0, warmup_momentum=0.8, warmup_bias_lr=0.1, box=7.5, cls=0.5, dfl=1.5, pose=12.0, kobj=1.0, label_smoothing=0.0, nbs=64, hsv_h=0.015, hsv_s=0.7, hsv_v=0.4, degrees=0.0, translate=0.1, scale=0.5, shear=0.0, perspective=0.0, flipud=0.0, fliplr=0.5, bgr=0.0, mosaic=1.0, mixup=0.0, copy_paste=0.0, auto_augment=randaugment, erasing=0.4, crop_fraction=1.0, cfg=None, tracker=botsort.yaml, save_dir=models/train5\n",
      "\n",
      "                   from  n    params  module                                       arguments                     \n",
      "  0                  -1  1       464  ultralytics.nn.modules.conv.Conv             [3, 16, 3, 2]                 \n",
      "  1                  -1  1      4672  ultralytics.nn.modules.conv.Conv             [16, 32, 3, 2]                \n",
      "  2                  -1  1      7360  ultralytics.nn.modules.block.C2f             [32, 32, 1, True]             \n",
      "  3                  -1  1     18560  ultralytics.nn.modules.conv.Conv             [32, 64, 3, 2]                \n",
      "  4                  -1  2     49664  ultralytics.nn.modules.block.C2f             [64, 64, 2, True]             \n",
      "  5                  -1  1     73984  ultralytics.nn.modules.conv.Conv             [64, 128, 3, 2]               \n",
      "  6                  -1  2    197632  ultralytics.nn.modules.block.C2f             [128, 128, 2, True]           \n",
      "  7                  -1  1    295424  ultralytics.nn.modules.conv.Conv             [128, 256, 3, 2]              \n",
      "  8                  -1  1    460288  ultralytics.nn.modules.block.C2f             [256, 256, 1, True]           \n",
      "  9                  -1  1    164608  ultralytics.nn.modules.block.SPPF            [256, 256, 5]                 \n",
      " 10                  -1  1         0  torch.nn.modules.upsampling.Upsample         [None, 2, 'nearest']          \n",
      " 11             [-1, 6]  1         0  ultralytics.nn.modules.conv.Concat           [1]                           \n",
      " 12                  -1  1    148224  ultralytics.nn.modules.block.C2f             [384, 128, 1]                 \n",
      " 13                  -1  1         0  torch.nn.modules.upsampling.Upsample         [None, 2, 'nearest']          \n",
      " 14             [-1, 4]  1         0  ultralytics.nn.modules.conv.Concat           [1]                           \n",
      " 15                  -1  1     37248  ultralytics.nn.modules.block.C2f             [192, 64, 1]                  \n",
      " 16                  -1  1     36992  ultralytics.nn.modules.conv.Conv             [64, 64, 3, 2]                \n",
      " 17            [-1, 12]  1         0  ultralytics.nn.modules.conv.Concat           [1]                           \n",
      " 18                  -1  1    123648  ultralytics.nn.modules.block.C2f             [192, 128, 1]                 \n",
      " 19                  -1  1    147712  ultralytics.nn.modules.conv.Conv             [128, 128, 3, 2]              \n",
      " 20             [-1, 9]  1         0  ultralytics.nn.modules.conv.Concat           [1]                           \n",
      " 21                  -1  1    493056  ultralytics.nn.modules.block.C2f             [384, 256, 1]                 \n",
      " 22        [15, 18, 21]  1    752287  ultralytics.nn.modules.head.Detect           [5, [64, 128, 256]]           \n",
      "Model summary: 225 layers, 3011823 parameters, 3011807 gradients\n",
      "\n",
      "Transferred 355/355 items from pretrained weights\n",
      "Freezing layer 'model.22.dfl.conv.weight'\n"
     ]
    },
    {
     "name": "stderr",
     "output_type": "stream",
     "text": [
      "\u001b[34m\u001b[1mtrain: \u001b[0mScanning /Users/asukh/Work/VSCode/Python/stream-and-detect/trainer/data/train/labels.cache... 5805 images, 93 backgrounds, 0 corrupt: 100%|██████████| 5805/5805 [00:00<?, ?it/s]\n",
      "\u001b[34m\u001b[1mval: \u001b[0mScanning /Users/asukh/Work/VSCode/Python/stream-and-detect/trainer/data/valid/labels.cache... 549 images, 8 backgrounds, 0 corrupt: 100%|██████████| 549/549 [00:00<?, ?it/s]\n"
     ]
    },
    {
     "name": "stdout",
     "output_type": "stream",
     "text": [
      "Plotting labels to models/train5/labels.jpg... \n",
      "\u001b[34m\u001b[1moptimizer:\u001b[0m SGD(lr=0.01, momentum=0.937) with parameter groups 57 weight(decay=0.0), 64 weight(decay=0.0005), 63 bias(decay=0.0)\n",
      "Image sizes 640 train, 640 val\n",
      "Using 0 dataloader workers\n",
      "Logging results to \u001b[1mmodels/train5\u001b[0m\n",
      "Starting training for 1 epochs...\n",
      "\n",
      "      Epoch    GPU_mem   box_loss   cls_loss   dfl_loss  Instances       Size\n"
     ]
    },
    {
     "name": "stderr",
     "output_type": "stream",
     "text": [
      "        1/1         0G      1.378      1.492      1.115         65        640: 100%|██████████| 726/726 [1:31:07<00:00,  7.53s/it]  \n",
      "                 Class     Images  Instances      Box(P          R      mAP50  mAP50-95): 100%|██████████| 35/35 [01:57<00:00,  3.36s/it]\n"
     ]
    },
    {
     "name": "stdout",
     "output_type": "stream",
     "text": [
      "                   all        549       6270      0.687       0.58      0.623      0.397\n",
      "\n",
      "1 epochs completed in 1.552 hours.\n",
      "Optimizer stripped from models/train5/weights/last.pt, 6.2MB\n",
      "Optimizer stripped from models/train5/weights/best.pt, 6.2MB\n",
      "\n",
      "Validating models/train5/weights/best.pt...\n",
      "Ultralytics YOLOv8.2.0 🚀 Python-3.10.14 torch-2.1.2.post3 CPU (Apple M1 Pro)\n",
      "Model summary (fused): 168 layers, 3006623 parameters, 0 gradients\n"
     ]
    },
    {
     "name": "stderr",
     "output_type": "stream",
     "text": [
      "                 Class     Images  Instances      Box(P          R      mAP50  mAP50-95): 100%|██████████| 35/35 [01:50<00:00,  3.15s/it]\n"
     ]
    },
    {
     "name": "stdout",
     "output_type": "stream",
     "text": [
      "                   all        549       6270      0.687      0.581      0.623      0.397\n",
      "               bicycle        549        250      0.826      0.468       0.57      0.411\n",
      "                   bus        549        108      0.524      0.593      0.562      0.425\n",
      "                   car        549       3842      0.781      0.874      0.899      0.605\n",
      "             motorbike        549       1238      0.768       0.52      0.616      0.342\n",
      "                person        549        832      0.539      0.449      0.469      0.204\n",
      "Speed: 0.6ms preprocess, 195.0ms inference, 0.0ms loss, 2.1ms postprocess per image\n",
      "Results saved to \u001b[1mmodels/train5\u001b[0m\n"
     ]
    }
   ],
   "source": [
    "# train\n",
    "device = torch.device(\"cuda\" if torch.cuda.is_available() else \"cpu\")\n",
    "train_result = model.train(\n",
    "    data=DATA_YAML_PATH,\n",
    "    imgsz=params['imgsz'],\n",
    "    batch=params['batch'],\n",
    "    epochs=params['epochs'],\n",
    "    optimizer=params['optimizer'],\n",
    "    lr0=params['lr0'],\n",
    "    seed=params['seed'],\n",
    "    pretrained=params['pretrained'],\n",
    "    # name=params['name'],\n",
    "    device = device,\n",
    "    project = params['project_dir'],\n",
    "    workers=0\n",
    ")"
   ]
  },
  {
   "cell_type": "code",
   "execution_count": 24,
   "metadata": {},
   "outputs": [
    {
     "name": "stderr",
     "output_type": "stream",
     "text": [
      "\u001b[34m\u001b[1mval: \u001b[0mScanning /Users/asukh/Work/VSCode/Python/stream-and-detect/trainer/data/valid/labels.cache... 549 images, 8 backgrounds, 0 corrupt: 100%|██████████| 549/549 [00:00<?, ?it/s]\n",
      "                 Class     Images  Instances      Box(P          R      mAP50  mAP50-95): 100%|██████████| 69/69 [00:40<00:00,  1.72it/s]\n"
     ]
    },
    {
     "name": "stdout",
     "output_type": "stream",
     "text": [
      "                   all        549       6270      0.637        0.6      0.618      0.387\n",
      "               bicycle        549        250      0.762      0.449      0.566        0.4\n",
      "                   bus        549        108      0.497      0.602      0.548      0.391\n",
      "                   car        549       3842      0.743      0.882      0.892      0.601\n",
      "             motorbike        549       1238      0.736      0.562      0.625      0.344\n",
      "                person        549        832       0.45      0.505      0.457      0.199\n",
      "Speed: 0.7ms preprocess, 65.6ms inference, 0.0ms loss, 3.1ms postprocess per image\n",
      "Results saved to \u001b[1mmodels/val/train\u001b[0m\n"
     ]
    }
   ],
   "source": [
    "device = torch.device(\"cuda\" if torch.cuda.is_available() else \"cpu\")\n",
    "project_dir = params['project_dir']\n",
    "val_result = model.val(data=DATA_YAML_PATH, device=device, project = f'{project_dir}/val/')"
   ]
  },
  {
   "cell_type": "code",
   "execution_count": 29,
   "metadata": {},
   "outputs": [
    {
     "name": "stderr",
     "output_type": "stream",
     "text": [
      "2024/06/14 01:37:14 WARNING mlflow.models.model: Logging model metadata to the tracking server has failed. The model artifacts have been logged successfully under s3://stream-n-detect/models/bdfdfdd40a3b4e1d8ab037e0e00923ba/artifacts. Set logging level to DEBUG via `logging.getLogger(\"mlflow\").setLevel(logging.DEBUG)` to see the full traceback.\n",
      "2024/06/14 01:37:14 DEBUG mlflow.models.model: \n",
      "urllib3.exceptions.ResponseError: too many 500 error responses\n",
      "\n",
      "The above exception was the direct cause of the following exception:\n",
      "\n",
      "Traceback (most recent call last):\n",
      "  File \"/opt/miniconda3/envs/pytorch3.10/lib/python3.10/site-packages/requests/adapters.py\", line 486, in send\n",
      "    resp = conn.urlopen(\n",
      "  File \"/opt/miniconda3/envs/pytorch3.10/lib/python3.10/site-packages/urllib3/connectionpool.py\", line 948, in urlopen\n",
      "    return self.urlopen(\n",
      "  File \"/opt/miniconda3/envs/pytorch3.10/lib/python3.10/site-packages/urllib3/connectionpool.py\", line 948, in urlopen\n",
      "    return self.urlopen(\n",
      "  File \"/opt/miniconda3/envs/pytorch3.10/lib/python3.10/site-packages/urllib3/connectionpool.py\", line 948, in urlopen\n",
      "    return self.urlopen(\n",
      "  [Previous line repeated 2 more times]\n",
      "  File \"/opt/miniconda3/envs/pytorch3.10/lib/python3.10/site-packages/urllib3/connectionpool.py\", line 938, in urlopen\n",
      "    retries = retries.increment(method, url, response=response, _pool=self)\n",
      "  File \"/opt/miniconda3/envs/pytorch3.10/lib/python3.10/site-packages/urllib3/util/retry.py\", line 515, in increment\n",
      "    raise MaxRetryError(_pool, url, reason) from reason  # type: ignore[arg-type]\n",
      "urllib3.exceptions.MaxRetryError: HTTPConnectionPool(host='localhost', port=8080): Max retries exceeded with url: /api/2.0/mlflow/runs/log-model (Caused by ResponseError('too many 500 error responses'))\n",
      "\n",
      "During handling of the above exception, another exception occurred:\n",
      "\n",
      "Traceback (most recent call last):\n",
      "  File \"/opt/miniconda3/envs/pytorch3.10/lib/python3.10/site-packages/mlflow/utils/rest_utils.py\", line 129, in http_request\n",
      "    return _get_http_response_with_retries(\n",
      "  File \"/opt/miniconda3/envs/pytorch3.10/lib/python3.10/site-packages/mlflow/utils/request_utils.py\", line 237, in _get_http_response_with_retries\n",
      "    return session.request(method, url, allow_redirects=allow_redirects, **kwargs)\n",
      "  File \"/opt/miniconda3/envs/pytorch3.10/lib/python3.10/site-packages/requests/sessions.py\", line 589, in request\n",
      "    resp = self.send(prep, **send_kwargs)\n",
      "  File \"/opt/miniconda3/envs/pytorch3.10/lib/python3.10/site-packages/requests/sessions.py\", line 703, in send\n",
      "    r = adapter.send(request, **kwargs)\n",
      "  File \"/opt/miniconda3/envs/pytorch3.10/lib/python3.10/site-packages/requests/adapters.py\", line 510, in send\n",
      "    raise RetryError(e, request=request)\n",
      "requests.exceptions.RetryError: HTTPConnectionPool(host='localhost', port=8080): Max retries exceeded with url: /api/2.0/mlflow/runs/log-model (Caused by ResponseError('too many 500 error responses'))\n",
      "\n",
      "During handling of the above exception, another exception occurred:\n",
      "\n",
      "Traceback (most recent call last):\n",
      "  File \"/opt/miniconda3/envs/pytorch3.10/lib/python3.10/site-packages/mlflow/models/model.py\", line 734, in log\n",
      "    mlflow.tracking.fluent._record_logged_model(mlflow_model, run_id)\n",
      "  File \"/opt/miniconda3/envs/pytorch3.10/lib/python3.10/site-packages/mlflow/tracking/fluent.py\", line 1489, in _record_logged_model\n",
      "    MlflowClient()._record_logged_model(run_id, mlflow_model)\n",
      "  File \"/opt/miniconda3/envs/pytorch3.10/lib/python3.10/site-packages/mlflow/tracking/client.py\", line 2719, in _record_logged_model\n",
      "    self._tracking_client._record_logged_model(run_id, mlflow_model)\n",
      "  File \"/opt/miniconda3/envs/pytorch3.10/lib/python3.10/site-packages/mlflow/tracking/_tracking_service/client.py\", line 768, in _record_logged_model\n",
      "    self.store.record_logged_model(run_id, mlflow_model)\n",
      "  File \"/opt/miniconda3/envs/pytorch3.10/lib/python3.10/site-packages/mlflow/store/tracking/rest_store.py\", line 539, in record_logged_model\n",
      "    self._call_endpoint(LogModel, req_body)\n",
      "  File \"/opt/miniconda3/envs/pytorch3.10/lib/python3.10/site-packages/mlflow/store/tracking/rest_store.py\", line 81, in _call_endpoint\n",
      "    return call_endpoint(self.get_host_creds(), endpoint, method, json_body, response_proto)\n",
      "  File \"/opt/miniconda3/envs/pytorch3.10/lib/python3.10/site-packages/mlflow/utils/rest_utils.py\", line 302, in call_endpoint\n",
      "    response = http_request(**call_kwargs)\n",
      "  File \"/opt/miniconda3/envs/pytorch3.10/lib/python3.10/site-packages/mlflow/utils/rest_utils.py\", line 152, in http_request\n",
      "    raise MlflowException(f\"API request to {url} failed with exception {e}\")\n",
      "mlflow.exceptions.MlflowException: API request to http://localhost:8080/api/2.0/mlflow/runs/log-model failed with exception HTTPConnectionPool(host='localhost', port=8080): Max retries exceeded with url: /api/2.0/mlflow/runs/log-model (Caused by ResponseError('too many 500 error responses'))\n"
     ]
    }
   ],
   "source": [
    "experiment_name = 'yolov8n detect'\n",
    "try:\n",
    "    experiment_id = mlflow.create_experiment(experiment_name, artifact_location=artifact_uri)\n",
    "except MlflowException:\n",
    "    experiment = mlflow.get_experiment_by_name(experiment_name)\n",
    "    experiment_id = experiment.experiment_id\n",
    "\n",
    "mlflow.set_experiment(experiment_name)\n",
    "\n",
    "requirements_path = \"requirements.txt\"\n",
    "with open(requirements_path, \"w\") as f:\n",
    "    f.write(\"torch==2.3.1\\n\")\n",
    "    f.write(\"cloudpickle==3.0.0\\n\")\n",
    "    # Add other dependencies if needed\n",
    "\n",
    "with mlflow.start_run(experiment_id=experiment_id):\n",
    "    mlflow.log_params(params)\n",
    "    mlflow.log_metric(\"precision\", train_result.results_dict['metrics/precision(B)'])\n",
    "    mlflow.log_metric(\"recall\", train_result.results_dict['metrics/recall(B)'])\n",
    "    mlflow.log_metric(\"fitness\", train_result.fitness)\n",
    "    mlflow.log_metric(\"inference\", train_result.speed['inference'])\n",
    "    mlflow.log_metric(\"loss\", train_result.speed['loss'])\n",
    "    mlflow.set_tag(\"training info\", \"yolo8n traffic data\")\n",
    "    # signature = infer_signature(X_train, lr.predict(X_train))\n",
    "    signature = infer_signature(params=params)\n",
    "\n",
    "    mlflow.pytorch.log_model(pytorch_model = model.model, artifact_path=\"models\", signature=signature, pip_requirements=requirements_path)\n",
    "    # mlflow.log_artifact('models')\n",
    "    "
   ]
  }
 ],
 "metadata": {
  "kernelspec": {
   "display_name": "pytorch3.10",
   "language": "python",
   "name": "python3"
  },
  "language_info": {
   "codemirror_mode": {
    "name": "ipython",
    "version": 3
   },
   "file_extension": ".py",
   "mimetype": "text/x-python",
   "name": "python",
   "nbconvert_exporter": "python",
   "pygments_lexer": "ipython3",
   "version": "3.10.14"
  }
 },
 "nbformat": 4,
 "nbformat_minor": 2
}
